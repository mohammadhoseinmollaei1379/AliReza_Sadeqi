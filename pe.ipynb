{
 "cells": [
  {
   "cell_type": "code",
   "execution_count": 2,
   "id": "ec2b8c26e2a5d4d0",
   "metadata": {
    "ExecuteTime": {
     "end_time": "2025-09-01T17:05:39.665595Z",
     "start_time": "2025-09-01T17:05:39.657194Z"
    }
   },
   "outputs": [
    {
     "name": "stdout",
     "output_type": "stream",
     "text": [
      "generator:  800984\n"
     ]
    }
   ],
   "source": [
    "from sys import getsizeof\n",
    "\n",
    "\n",
    "\n",
    "numbers = [n for n in range(100000)]\n",
    "print(\"generator: \" , getsizeof(numbers))\n",
    "\n"
   ]
  },
  {
   "cell_type": "code",
   "execution_count": 7,
   "id": "a45a87f5228deb22",
   "metadata": {
    "ExecuteTime": {
     "end_time": "2025-09-01T17:13:58.385940Z",
     "start_time": "2025-09-01T17:13:58.379227Z"
    }
   },
   "outputs": [
    {
     "name": "stdout",
     "output_type": "stream",
     "text": [
      "1 2 3 4 5 6\n"
     ]
    }
   ],
   "source": [
    "first_half = [1,2,3]\n",
    "second_half = [4,5,6]\n",
    "result = [*first_half , *second_half]\n",
    "\n",
    "print(*result)"
   ]
  },
  {
   "cell_type": "code",
   "execution_count": 8,
   "id": "f0410a58c21d1cda",
   "metadata": {
    "ExecuteTime": {
     "end_time": "2025-09-01T17:28:39.006975Z",
     "start_time": "2025-09-01T17:28:38.992529Z"
    }
   },
   "outputs": [
    {
     "name": "stdout",
     "output_type": "stream",
     "text": [
      "{'name': 'Ali', 'age': 30, 'is_admin': False, 'can_post': True}\n"
     ]
    }
   ],
   "source": [
    "user_profile = {'name': 'Ali', 'age': 30}\n",
    "user_permissions = {'is_admin':False , \"can_post\":True }\n",
    "add = {**user_profile, **user_permissions}\n",
    "print(add)\n",
    "\n"
   ]
  },
  {
   "cell_type": "code",
   "execution_count": 6,
   "id": "e9c78de57aa222e7",
   "metadata": {
    "ExecuteTime": {
     "end_time": "2025-09-06T10:04:04.332937Z",
     "start_time": "2025-09-06T10:03:59.577690Z"
    }
   },
   "outputs": [
    {
     "name": "stdout",
     "output_type": "stream",
     "text": [
      "0 2 4 6 8 10 12\n"
     ]
    }
   ],
   "source": [
    "\n",
    "def even_numbers(n):\n",
    "    for num in range(0, n , 2):\n",
    "        yield num\n",
    "\n",
    "\n",
    "n = int(input(\"enter a number:\"))\n",
    "\n",
    "print(*even_numbers(n))\n",
    "\n"
   ]
  },
  {
   "cell_type": "code",
   "execution_count": 4,
   "id": "e44a932de174b41e",
   "metadata": {
    "ExecuteTime": {
     "end_time": "2025-09-06T17:12:40.641009Z",
     "start_time": "2025-09-06T17:12:40.630451Z"
    }
   },
   "outputs": [
    {
     "name": "stdout",
     "output_type": "stream",
     "text": [
      "0\n",
      "0\n",
      "0\n"
     ]
    }
   ],
   "source": [
    "# class Money:\n",
    "#     default_price = 0\n",
    "#     def __init__(self, money):\n",
    "#         self.money = money\n",
    "#     def write(self, money):\n",
    "#         print(f\"money: {money}\")\n",
    "#\n",
    "# money = Money(10000)\n",
    "# money.write(10000)\n",
    "\n"
   ]
  },
  {
   "cell_type": "code",
   "execution_count": null,
   "id": "649b68c5626c0f4b",
   "metadata": {
    "ExecuteTime": {
     "end_time": "2025-09-07T12:56:34.908818Z",
     "start_time": "2025-09-07T12:56:34.898400Z"
    }
   },
   "outputs": [
    {
     "name": "stdout",
     "output_type": "stream",
     "text": [
      "{'hello': 1, 'world': 7}\n"
     ]
    }
   ],
   "source": [
    "class BagOfWord :\n",
    "    def __init__(self):\n",
    "        self.words = {}\n",
    "    def add(self, word):\n",
    "        self.words[word.lower()] = self.words.get(word.lower(), 0) + 1\n",
    "\n",
    "\n",
    "document = BagOfWord()\n",
    "document.add(\"hello\")\n",
    "document.add(\"world\")\n",
    "document.add(\"world\")\n",
    "document.add(\"world\")\n",
    "document.add(\"world\")\n",
    "document.add(\"world\")\n",
    "document.add(\"world\")\n",
    "document.add(\"world\")\n",
    "print(document.words)"
   ]
  }
 ],
 "metadata": {
  "kernelspec": {
   "display_name": "Python 3",
   "language": "python",
   "name": "python3"
  },
  "language_info": {
   "codemirror_mode": {
    "name": "ipython",
    "version": 2
   },
   "file_extension": ".py",
   "mimetype": "text/x-python",
   "name": "python",
   "nbconvert_exporter": "python",
   "pygments_lexer": "ipython2",
   "version": "2.7.6"
  }
 },
 "nbformat": 4,
 "nbformat_minor": 5
}
