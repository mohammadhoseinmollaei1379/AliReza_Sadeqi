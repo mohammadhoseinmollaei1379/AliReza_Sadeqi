{
 "cells": [
  {
   "metadata": {
    "ExecuteTime": {
     "end_time": "2025-08-20T16:36:14.982063Z",
     "start_time": "2025-08-20T16:36:14.974125Z"
    }
   },
   "cell_type": "code",
   "source": [
    "##dictation = {\"a\":\"b\",\"c\":\"d\"}\n",
    "##for key, value in dictation.items():\n",
    "##    print(key, value)"
   ],
   "id": "76ef4546fa2aa67c",
   "outputs": [
    {
     "name": "stdout",
     "output_type": "stream",
     "text": [
      "a b\n",
      "c d\n"
     ]
    }
   ],
   "execution_count": 6
  },
  {
   "metadata": {
    "ExecuteTime": {
     "end_time": "2025-08-20T16:35:32.662243Z",
     "start_time": "2025-08-20T16:35:32.653474Z"
    }
   },
   "cell_type": "code",
   "source": "#print(dictation.items())",
   "id": "848e5f5e2abd6849",
   "outputs": [
    {
     "name": "stdout",
     "output_type": "stream",
     "text": [
      "dict_items([('a', 'b'), ('c', 'd')])\n"
     ]
    }
   ],
   "execution_count": 5
  },
  {
   "metadata": {
    "ExecuteTime": {
     "end_time": "2025-08-21T03:46:39.378437Z",
     "start_time": "2025-08-21T03:46:39.370364Z"
    }
   },
   "cell_type": "code",
   "source": [
    "#from sys import getsizeof\n",
    "#key = [x*2 for x in range(10)]\n",
    "#print(getsizeof(key))\n",
    "#print(key)"
   ],
   "id": "829941c07f2eb7cc",
   "outputs": [
    {
     "name": "stdout",
     "output_type": "stream",
     "text": [
      "184\n",
      "[0, 2, 4, 6, 8, 10, 12, 14, 16, 18]\n"
     ]
    }
   ],
   "execution_count": 5
  },
  {
   "metadata": {
    "ExecuteTime": {
     "end_time": "2025-08-21T12:04:51.774911Z",
     "start_time": "2025-08-21T12:04:51.766514Z"
    }
   },
   "cell_type": "code",
   "source": [
    "#words = [\"bike\", \"apple\", \"special\", \"python\", \"busy\"]\n",
    "#result = list(map(lambda word: len(word), words))\n",
    "#print(result)"
   ],
   "id": "2a467cb69c85e65a",
   "outputs": [
    {
     "name": "stdout",
     "output_type": "stream",
     "text": [
      "[4, 5, 7, 6, 4]\n"
     ]
    }
   ],
   "execution_count": 1
  },
  {
   "metadata": {
    "ExecuteTime": {
     "end_time": "2025-08-21T12:11:53.327598Z",
     "start_time": "2025-08-21T12:11:53.312701Z"
    }
   },
   "cell_type": "code",
   "source": [
    "#numbers = [1,2,3,-1,-5]\n",
    "#filtered = list(filter(lambda number: number > 0, numbers))\n",
    "#print(filtered)"
   ],
   "id": "97b7fb687877074c",
   "outputs": [
    {
     "name": "stdout",
     "output_type": "stream",
     "text": [
      "[1, 2, 3]\n"
     ]
    }
   ],
   "execution_count": 2
  },
  {
   "metadata": {
    "ExecuteTime": {
     "end_time": "2025-08-21T12:15:25.404079Z",
     "start_time": "2025-08-21T12:15:25.393909Z"
    }
   },
   "cell_type": "code",
   "outputs": [
    {
     "name": "stdout",
     "output_type": "stream",
     "text": [
      "[0, 1, 4, 9, 16, 25, 36, 49, 64, 81, 100]\n"
     ]
    }
   ],
   "execution_count": 2,
   "source": [
    "#key = [x*x for x in range(11)]\n",
    "#print(key)"
   ],
   "id": "a2c46e76db4b46d"
  },
  {
   "metadata": {
    "ExecuteTime": {
     "end_time": "2025-08-24T07:46:37.366593Z",
     "start_time": "2025-08-24T07:46:37.358853Z"
    }
   },
   "cell_type": "code",
   "source": [
    "#short_and_big_words = ['apple', 'hi', 'Python', 'web', 'programming', 'code', 'hello', 'AI']\n",
    "#word_uppercase = [word.upper() for word in short_and_big_words if len(word) > 4]\n",
    "#print(word_uppercase)"
   ],
   "id": "3d1c862d1dee94e9",
   "outputs": [
    {
     "name": "stdout",
     "output_type": "stream",
     "text": [
      "['APPLE', 'PYTHON', 'PROGRAMMING', 'HELLO']\n"
     ]
    }
   ],
   "execution_count": 1
  },
  {
   "metadata": {
    "ExecuteTime": {
     "end_time": "2025-08-24T07:57:22.372321Z",
     "start_time": "2025-08-24T07:57:22.362981Z"
    }
   },
   "cell_type": "code",
   "source": [
    "#student = [\"Ali\", \"Bob\", \"John\", \"Anna\",\"maryam\"]\n",
    "#scores = [20,5,4,13,20]\n",
    "#result = list(zip(student, scores))\n",
    "#print(result)"
   ],
   "id": "366a731e8ff22adc",
   "outputs": [
    {
     "name": "stdout",
     "output_type": "stream",
     "text": [
      "[('Ali', 19), ('Bob', 5), ('John', 4), ('Anna', 13), ('maryam', 20)]\n"
     ]
    }
   ],
   "execution_count": 2
  },
  {
   "metadata": {
    "ExecuteTime": {
     "end_time": "2025-08-25T13:05:40.580896Z",
     "start_time": "2025-08-25T13:05:40.573259Z"
    }
   },
   "cell_type": "code",
   "source": [
    "#stack = []\n",
    "#stack.append(\"learn it\")\n",
    "#stack.append(\"copilot\")\n",
    "#stack.append(\"deep seek\")\n",
    "#\n",
    "#last_page = stack.pop()\n",
    "#print(\"you deleted last page:\",last_page)\n",
    "#print(\"in progress...:\", stack)\n"
   ],
   "id": "6942fc42d4027654",
   "outputs": [
    {
     "name": "stdout",
     "output_type": "stream",
     "text": [
      "you deleted last page: deep seek\n",
      "in progress...: ['learn it', 'copilot']\n"
     ]
    }
   ],
   "execution_count": 2
  },
  {
   "metadata": {
    "ExecuteTime": {
     "end_time": "2025-08-25T13:10:33.133413Z",
     "start_time": "2025-08-25T13:10:33.109601Z"
    }
   },
   "cell_type": "code",
   "source": [
    "from collections import deque\n",
    "\n",
    "\n",
    "printer_queue = deque()\n",
    "\n",
    "\n",
    "printer_queue.append(\"document1.pdf\")\n",
    "printer_queue.append(\"image.png\")\n",
    "printer_queue.append(\"report.docx\")\n",
    "printer_queue.append(\"presentation.pptx\")\n",
    "\n",
    "print(\"صف فعلی چاپگر:\", printer_queue)\n",
    "\n",
    "\n",
    "while printer_queue:\n",
    "    current_job = printer_queue.popleft()\n",
    "    print(\"در حال چاپ:\", current_job)\n",
    "\n",
    "print(\"همه وظایف چاپ شدند ✅\")"
   ],
   "id": "e119eacbaf8c3745",
   "outputs": [
    {
     "name": "stdout",
     "output_type": "stream",
     "text": [
      "صف فعلی چاپگر: deque(['document1.pdf', 'image.png', 'report.docx', 'presentation.pptx'])\n",
      "در حال چاپ: document1.pdf\n",
      "در حال چاپ: image.png\n",
      "در حال چاپ: report.docx\n",
      "در حال چاپ: presentation.pptx\n",
      "همه وظایف چاپ شدند ✅\n"
     ]
    }
   ],
   "execution_count": 3
  },
  {
   "metadata": {
    "ExecuteTime": {
     "end_time": "2025-08-25T13:21:31.831267Z",
     "start_time": "2025-08-25T13:21:31.819097Z"
    }
   },
   "cell_type": "code",
   "source": [
    "# مجموعه زبان‌های برنامه‌نویسی دوست اول\n",
    "friend1_langs = {\"Python\", \"Java\", \"C++\", \"JavaScript\"}\n",
    "\n",
    "# مجموعه زبان‌های برنامه‌نویسی دوست دوم\n",
    "friend2_langs = {\"Python\", \"C#\", \"JavaScript\", \"Go\"}\n",
    "\n",
    "# تفاضل: زبان‌هایی که فقط دوست اول بلد است\n",
    "only_friend1 = friend1_langs - friend2_langs\n",
    "\n",
    "# تفاضل متقارن: زبان‌هایی که فقط یکی از آن‌ها بلد است (و نه هر دو)\n",
    "symmetric_diff = friend1_langs ^ friend2_langs\n",
    "\n",
    "print(\"زبان‌هایی که فقط دوست اول بلد است:\", only_friend1)\n",
    "print(\"زبان‌هایی که فقط یکی از آن‌ها بلد است:\", symmetric_diff)"
   ],
   "id": "fa7d5f524dd86616",
   "outputs": [
    {
     "name": "stdout",
     "output_type": "stream",
     "text": [
      "زبان‌هایی که حداقل یکی بلد است: {'Go', 'Python', 'Java', 'C++', 'C#', 'JavaScript'}\n",
      "زبان‌هایی که هر دو بلد هستند: {'Python', 'JavaScript'}\n"
     ]
    }
   ],
   "execution_count": 4
  },
  {
   "metadata": {
    "ExecuteTime": {
     "end_time": "2025-08-25T13:31:39.482450Z",
     "start_time": "2025-08-25T13:31:39.461111Z"
    }
   },
   "cell_type": "code",
   "source": [
    "# دیکشنری اولیه\n",
    "user_info = {\n",
    "    \"name\": \"Ali\",\n",
    "    \"age\": 25,\n",
    "    \"email\": \"ali@example.com\"\n",
    "}\n",
    "\n",
    "# 1. اضافه کردن کلید جدید city\n",
    "user_info[\"city\"] = \"Tehran\"\n",
    "\n",
    "# 2. دسترسی امن به کلید last_login با مقدار پیش‌فرض\n",
    "last_login_value = user_info.get(\"last_login\", \"هنوز وارد نشده\")\n",
    "print(\"آخرین ورود:\", last_login_value)\n",
    "\n",
    "# 3. حذف کلید age از دیکشنری\n",
    "del user_info[\"age\"]\n",
    "\n",
    "# نمایش دیکشنری نهایی\n",
    "print(\"اطلاعات کاربر بعد از تغییر:\", user_info)"
   ],
   "id": "aa20a17e6f0c7267",
   "outputs": [
    {
     "name": "stdout",
     "output_type": "stream",
     "text": [
      "آخرین ورود: هنوز وارد نشده\n",
      "اطلاعات کاربر بعد از تغییر: {'name': 'Ali', 'email': 'ali@example.com', 'city': 'Tehran'}\n"
     ]
    }
   ],
   "execution_count": 5
  },
  {
   "metadata": {
    "ExecuteTime": {
     "end_time": "2025-08-30T16:35:28.709617Z",
     "start_time": "2025-08-30T16:35:28.701907Z"
    }
   },
   "cell_type": "code",
   "source": [
    "numbers = list(range(1, 21))\n",
    "set_number = {number**2 for number in numbers if number % 2 != 0}\n",
    "\n",
    "print(set_number)"
   ],
   "id": "cac1af04aff5be69",
   "outputs": [
    {
     "name": "stdout",
     "output_type": "stream",
     "text": [
      "{1, 121, 225, 289, 9, 169, 361, 81, 49, 25}\n"
     ]
    }
   ],
   "execution_count": 3
  },
  {
   "metadata": {
    "ExecuteTime": {
     "end_time": "2025-09-01T17:07:44.208349Z",
     "start_time": "2025-09-01T17:07:44.186213Z"
    }
   },
   "cell_type": "code",
   "source": [
    "even_numbers = (n for n in range(1, 21) if n % 2 == 0)\n",
    "print(*even_numbers)"
   ],
   "id": "f36d955637c2eeaf",
   "outputs": [
    {
     "name": "stdout",
     "output_type": "stream",
     "text": [
      "2 4 6 8 10 12 14 16 18 20\n"
     ]
    }
   ],
   "execution_count": 4
  },
  {
   "metadata": {
    "ExecuteTime": {
     "end_time": "2025-09-01T16:34:17.908340Z",
     "start_time": "2025-09-01T16:34:17.895791Z"
    }
   },
   "cell_type": "code",
   "source": [
    "with open(\"file.txt\", \"w\") as f:\n",
    "    f.write(\"hello world\")\n",
    "with open(\"file.txt\", \"r\") as f:\n",
    "    text = f.read()\n",
    "\n",
    "print(text)"
   ],
   "id": "e66ec373434e1006",
   "outputs": [
    {
     "name": "stdout",
     "output_type": "stream",
     "text": [
      "hello world\n"
     ]
    }
   ],
   "execution_count": 2
  },
  {
   "metadata": {
    "ExecuteTime": {
     "end_time": "2025-09-03T16:17:32.384509Z",
     "start_time": "2025-09-03T16:17:32.369746Z"
    }
   },
   "cell_type": "code",
   "source": [
    "from timeit import timeit\n",
    "\n",
    "code1 = \"\"\"def calculate_age(age):\n",
    "    if age <= 0:\n",
    "        raise ValueError(\"age must be greater than zero\")\n",
    "    return 10/age\n",
    "\n",
    "try:\n",
    "    calculate_age(0)\n",
    "except BaseException as e:\n",
    "    pass\n",
    "\"\"\"\n",
    "print(timeit(code1, number=1000))"
   ],
   "id": "e78f9ae99ccd46e4",
   "outputs": [
    {
     "name": "stdout",
     "output_type": "stream",
     "text": [
      "0.0006278001237660646\n"
     ]
    }
   ],
   "execution_count": 2
  },
  {
   "metadata": {
    "ExecuteTime": {
     "end_time": "2025-09-05T10:22:04.708197Z",
     "start_time": "2025-09-05T10:22:04.698583Z"
    }
   },
   "cell_type": "code",
   "source": [
    "class Alireza:\n",
    "    def sadeqi(self):\n",
    "        print(\"Alireza sadeqi\")\n",
    "\n",
    "alireza   = Alireza()\n",
    "print(isinstance(alireza, Alireza))"
   ],
   "id": "1061422d6d6a6704",
   "outputs": [
    {
     "name": "stdout",
     "output_type": "stream",
     "text": [
      "False\n"
     ]
    }
   ],
   "execution_count": 2
  }
 ],
 "metadata": {
  "kernelspec": {
   "display_name": "Python 3",
   "language": "python",
   "name": "python3"
  },
  "language_info": {
   "codemirror_mode": {
    "name": "ipython",
    "version": 2
   },
   "file_extension": ".py",
   "mimetype": "text/x-python",
   "name": "python",
   "nbconvert_exporter": "python",
   "pygments_lexer": "ipython2",
   "version": "2.7.6"
  }
 },
 "nbformat": 4,
 "nbformat_minor": 5
}
